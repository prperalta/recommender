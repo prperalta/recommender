{
 "cells": [
  {
   "cell_type": "code",
   "execution_count": 12,
   "id": "0953e7b2-e7e6-413e-9a33-d4a040817045",
   "metadata": {},
   "outputs": [],
   "source": [
    "import pandas as pd\n",
    "import numpy as np\n",
    "import os\n",
    "\n",
    "\n",
    "from scipy import sparse\n",
    "from sklearn.metrics.pairwise import cosine_similarity\n",
    "from itertools import product"
   ]
  },
  {
   "cell_type": "code",
   "execution_count": 478,
   "id": "7aafdcbf-90c8-4cea-b237-4b1904dc1713",
   "metadata": {},
   "outputs": [],
   "source": [
    "class KNN():\n",
    "    \n",
    "    def compute_similarity(self, ratings):\n",
    "        self.similarities = cosine_similarity(ratings)\n",
    "    \n",
    "    def __init__(self, ratings):\n",
    "        self.ratings = ratings\n",
    "        self.compute_similarity(self.ratings)\n",
    "        \n",
    "    def predict(self, user_id, movie_id, k):\n",
    "        \n",
    "        #get nearest neighbors\n",
    "        idx = np.flip(np.argsort(self.similarities[user_id]))\n",
    "        idx = idx[1:] #remove self index\n",
    "        user_similarities = self.similarities[user_id]\n",
    "        top_neighbors = idx[:k]\n",
    "        \n",
    "        #user ratings\n",
    "        user_ratings = self.ratings[user_id]\n",
    "        user_ratings[movie_id] = np.nan\n",
    "        user_ratings[user_ratings[:]==0] = np.nan\n",
    "        \n",
    "        #user neigbor similarities\n",
    "        user_neighbor_similarity = user_similarities[top_neighbors]\n",
    "        \n",
    "        #neighbor ratings\n",
    "        neighbor_ratings = self.ratings[top_neighbors]\n",
    "        neighbor_ratings[neighbor_ratings[:]==0] = np.nan #convert unrated items (0) to nans\n",
    "        neighbor_ratings_ex = neighbor_ratings.copy()\n",
    "        neighbor_ratings_ex[:, movie_id] = np.nan\n",
    "        neighbor_rating_mean = np.nanmean(neighbor_ratings_ex, axis=1)\n",
    "        neighbor_ratings[np.isnan(neighbor_ratings[:])] = 0\n",
    "        neighbor_target_movie_rating = neighbor_ratings[:,movie_id]\n",
    "        \n",
    "        #compute prediction score\n",
    "        pred_rating = neighbor_target_movie_rating - neighbor_rating_mean\n",
    "        pred_rating = (np.nansum(pred_rating * user_neighbor_similarity)) / abs(user_neighbor_similarity).sum() \n",
    "        pred_rating = np.nansum([pred_rating, np.nanmean(user_ratings)])\n",
    "        \n",
    "        return pred_rating\n",
    "    \n",
    "    #def recommend():\n",
    "    #    pass"
   ]
  },
  {
   "cell_type": "code",
   "execution_count": 312,
   "id": "e3c40fae-ce0e-4443-bb6f-8dbb2fd75685",
   "metadata": {},
   "outputs": [
    {
     "name": "stderr",
     "output_type": "stream",
     "text": [
      "C:\\Users\\Paolo\\AppData\\Local\\Temp\\ipykernel_8912\\1423030165.py:26: SettingWithCopyWarning: \n",
      "A value is trying to be set on a copy of a slice from a DataFrame.\n",
      "Try using .loc[row_indexer,col_indexer] = value instead\n",
      "\n",
      "See the caveats in the documentation: https://pandas.pydata.org/pandas-docs/stable/user_guide/indexing.html#returning-a-view-versus-a-copy\n",
      "  ratings['userId'] = ratings['userId'].apply(lambda x : userid2idx[x])\n",
      "C:\\Users\\Paolo\\AppData\\Local\\Temp\\ipykernel_8912\\1423030165.py:27: SettingWithCopyWarning: \n",
      "A value is trying to be set on a copy of a slice from a DataFrame.\n",
      "Try using .loc[row_indexer,col_indexer] = value instead\n",
      "\n",
      "See the caveats in the documentation: https://pandas.pydata.org/pandas-docs/stable/user_guide/indexing.html#returning-a-view-versus-a-copy\n",
      "  ratings['movieId'] = ratings['movieId'].apply(lambda x : movieid2idx[x])\n"
     ]
    }
   ],
   "source": [
    "path = 'ml-20m'\n",
    "genome_scores = pd.read_csv(os.path.join(path,'genome-scores.csv'))\n",
    "genome_tags = pd.read_csv(os.path.join(path,'genome-tags.csv'))\n",
    "tags = pd.read_csv(os.path.join(path,'tags.csv'))\n",
    "movies = pd.read_csv(os.path.join(path,'movies.csv'))\n",
    "ratings_full = pd.read_csv(os.path.join(path,'ratings.csv'))\n",
    "\n",
    "\n",
    "#remove movies without ratings\n",
    "#movies = movies[movies['movieId'].isin(ratings_full['movieId'].unique())]\n",
    "#genome_scores = genome_scores[genome_scores['movieId'].isin(ratings_full['movieId'].unique())]\n",
    "\n",
    "#remove on deployment\n",
    "ratings = ratings_full.head(1000000)\n",
    "\n",
    "#remap ids to continuous integers\n",
    "user_ids = np.sort(np.unique(ratings['userId']))\n",
    "userid2idx = {o:i for i,o in enumerate(user_ids) }\n",
    "\n",
    "movie_ids = np.sort(np.unique(ratings['movieId']))\n",
    "movieid2idx = {o:i for i,o in enumerate(movie_ids) }\n",
    "\n",
    "ratings['userId'] = ratings['userId'].apply(lambda x : userid2idx[x])\n",
    "ratings['movieId'] = ratings['movieId'].apply(lambda x : movieid2idx[x])\n"
   ]
  },
  {
   "cell_type": "code",
   "execution_count": 326,
   "id": "0219b8d1-5874-4661-934e-688049476663",
   "metadata": {},
   "outputs": [
    {
     "name": "stderr",
     "output_type": "stream",
     "text": [
      "C:\\Users\\Paolo\\AppData\\Local\\Temp\\ipykernel_8912\\3603655014.py:1: SettingWithCopyWarning: \n",
      "A value is trying to be set on a copy of a slice from a DataFrame.\n",
      "Try using .loc[row_indexer,col_indexer] = value instead\n",
      "\n",
      "See the caveats in the documentation: https://pandas.pydata.org/pandas-docs/stable/user_guide/indexing.html#returning-a-view-versus-a-copy\n",
      "  ratings['is_train'] = np.random.random(len(ratings)) < 0.95\n"
     ]
    }
   ],
   "source": [
    "ratings['is_train'] = np.random.random(len(ratings)) < 0.95\n",
    "training_data = ratings[ratings['is_train']]\n",
    "test_data = ratings[~ratings['is_train']]\n",
    "test_data = test_data[test_data['userId'].isin(training_data['userId'])]\n",
    "test_data = test_data[test_data['movieId'].isin(training_data['movieId'])]"
   ]
  },
  {
   "cell_type": "code",
   "execution_count": 329,
   "id": "2c4dd2e9-a320-43fb-94b2-8b890d385467",
   "metadata": {},
   "outputs": [],
   "source": [
    "#user_movie_pair = list(product(userid2idx.values(), movieid2idx.values()))\n",
    "#user_movie_pair_df = pd.DataFrame(user_movie_pair, columns =['userId', 'movieId'])\n",
    "#m = user_movie_pair_df.merge(training_data, on=['userId', 'movieId'], how='left')\n",
    "ratings_pvt = ratings.pivot_table(index='userId', columns=['movieId'], values='rating', dropna=False, fill_value=0)\n"
   ]
  },
  {
   "cell_type": "code",
   "execution_count": 485,
   "id": "9ea7730e-338a-4f4a-921c-2124a1befeca",
   "metadata": {},
   "outputs": [
    {
     "data": {
      "text/plain": [
       "49997"
      ]
     },
     "execution_count": 485,
     "metadata": {},
     "output_type": "execute_result"
    }
   ],
   "source": [
    "test_data.shape[0]"
   ]
  },
  {
   "cell_type": "code",
   "execution_count": 479,
   "id": "8cd7b79c-8f63-4031-9438-9cafb7e2bdd0",
   "metadata": {},
   "outputs": [],
   "source": [
    "model = KNN(ratings_pvt.values)"
   ]
  },
  {
   "cell_type": "code",
   "execution_count": 520,
   "id": "4b9bf388-5667-4ae1-b2af-88da84e54514",
   "metadata": {},
   "outputs": [],
   "source": [
    "def compute_mae(model, test_data, k):\n",
    "    \n",
    "    test_data = test_data.copy()\n",
    "    \n",
    "    error = 0\n",
    "    test_data['predicted'] = pd.Series()\n",
    "    test_data['mae'] = pd.Series()\n",
    "    \n",
    "    #'(ColA==\"7\") & (ColB==\"3\") & (ColC==\"alpha\") & (ColD==\"yu\")'   \n",
    "    \n",
    "    \n",
    "    for test_item in test_data.values:    \n",
    "        user_id = test_item[0]\n",
    "        movie_id = test_item[1]\n",
    "        rating = test_item[2]\n",
    "        prediction = model.predict(user_id, movie_id, k)\n",
    "        abs_diff = abs( prediction - rating)\n",
    "        \n",
    "        query = f'userId=={user_id} & movieId == {movie_id}'\n",
    "        test_data.loc[test_data.query(query).index,'predicted'] = prediction\n",
    "        test_data.loc[test_data.query(query).index,'mae'] = abs_diff\n",
    "        \n",
    "        error += abs_diff\n",
    "    \n",
    "    test_data.to_csv('test_result.csv')\n",
    "    mae = error / test_data.shape[0]\n",
    "    \n",
    "    return mae\n"
   ]
  },
  {
   "cell_type": "code",
   "execution_count": 521,
   "id": "046ded80-8e1c-40dd-9b02-67022487c3ba",
   "metadata": {},
   "outputs": [
    {
     "name": "stderr",
     "output_type": "stream",
     "text": [
      "C:\\Users\\Paolo\\AppData\\Local\\Temp\\ipykernel_8912\\944740100.py:6: FutureWarning: The default dtype for empty Series will be 'object' instead of 'float64' in a future version. Specify a dtype explicitly to silence this warning.\n",
      "  test_data['predicted'] = pd.Series()\n",
      "C:\\Users\\Paolo\\AppData\\Local\\Temp\\ipykernel_8912\\944740100.py:7: FutureWarning: The default dtype for empty Series will be 'object' instead of 'float64' in a future version. Specify a dtype explicitly to silence this warning.\n",
      "  test_data['mae'] = pd.Series()\n"
     ]
    },
    {
     "data": {
      "text/plain": [
       "1.9896388318036877"
      ]
     },
     "execution_count": 521,
     "metadata": {},
     "output_type": "execute_result"
    }
   ],
   "source": [
    "compute_mae(model, test_data, 3)"
   ]
  },
  {
   "cell_type": "code",
   "execution_count": 511,
   "id": "d485a3bc-6e3d-4670-a3be-3f23fffbb418",
   "metadata": {},
   "outputs": [
    {
     "data": {
      "text/html": [
       "<div>\n",
       "<style scoped>\n",
       "    .dataframe tbody tr th:only-of-type {\n",
       "        vertical-align: middle;\n",
       "    }\n",
       "\n",
       "    .dataframe tbody tr th {\n",
       "        vertical-align: top;\n",
       "    }\n",
       "\n",
       "    .dataframe thead th {\n",
       "        text-align: right;\n",
       "    }\n",
       "</style>\n",
       "<table border=\"1\" class=\"dataframe\">\n",
       "  <thead>\n",
       "    <tr style=\"text-align: right;\">\n",
       "      <th></th>\n",
       "      <th>userId</th>\n",
       "      <th>movieId</th>\n",
       "      <th>rating</th>\n",
       "      <th>timestamp</th>\n",
       "      <th>is_train</th>\n",
       "    </tr>\n",
       "  </thead>\n",
       "  <tbody>\n",
       "    <tr>\n",
       "      <th>8</th>\n",
       "      <td>0</td>\n",
       "      <td>247</td>\n",
       "      <td>4.0</td>\n",
       "      <td>1112484940</td>\n",
       "      <td>False</td>\n",
       "    </tr>\n",
       "    <tr>\n",
       "      <th>15</th>\n",
       "      <td>0</td>\n",
       "      <td>531</td>\n",
       "      <td>4.0</td>\n",
       "      <td>1112484603</td>\n",
       "      <td>False</td>\n",
       "    </tr>\n",
       "    <tr>\n",
       "      <th>17</th>\n",
       "      <td>0</td>\n",
       "      <td>581</td>\n",
       "      <td>3.5</td>\n",
       "      <td>1112484661</td>\n",
       "      <td>False</td>\n",
       "    </tr>\n",
       "    <tr>\n",
       "      <th>121</th>\n",
       "      <td>0</td>\n",
       "      <td>4227</td>\n",
       "      <td>4.0</td>\n",
       "      <td>1112485822</td>\n",
       "      <td>False</td>\n",
       "    </tr>\n",
       "    <tr>\n",
       "      <th>131</th>\n",
       "      <td>0</td>\n",
       "      <td>4734</td>\n",
       "      <td>5.0</td>\n",
       "      <td>1112484682</td>\n",
       "      <td>False</td>\n",
       "    </tr>\n",
       "    <tr>\n",
       "      <th>...</th>\n",
       "      <td>...</td>\n",
       "      <td>...</td>\n",
       "      <td>...</td>\n",
       "      <td>...</td>\n",
       "      <td>...</td>\n",
       "    </tr>\n",
       "    <tr>\n",
       "      <th>999866</th>\n",
       "      <td>6742</td>\n",
       "      <td>373</td>\n",
       "      <td>3.5</td>\n",
       "      <td>1117760565</td>\n",
       "      <td>False</td>\n",
       "    </tr>\n",
       "    <tr>\n",
       "      <th>999919</th>\n",
       "      <td>6742</td>\n",
       "      <td>722</td>\n",
       "      <td>4.5</td>\n",
       "      <td>1117760974</td>\n",
       "      <td>False</td>\n",
       "    </tr>\n",
       "    <tr>\n",
       "      <th>999969</th>\n",
       "      <td>6742</td>\n",
       "      <td>1218</td>\n",
       "      <td>3.5</td>\n",
       "      <td>1117761366</td>\n",
       "      <td>False</td>\n",
       "    </tr>\n",
       "    <tr>\n",
       "      <th>999984</th>\n",
       "      <td>6742</td>\n",
       "      <td>1414</td>\n",
       "      <td>4.0</td>\n",
       "      <td>1117761156</td>\n",
       "      <td>False</td>\n",
       "    </tr>\n",
       "    <tr>\n",
       "      <th>999999</th>\n",
       "      <td>6742</td>\n",
       "      <td>1499</td>\n",
       "      <td>4.0</td>\n",
       "      <td>1117761913</td>\n",
       "      <td>False</td>\n",
       "    </tr>\n",
       "  </tbody>\n",
       "</table>\n",
       "<p>49997 rows × 5 columns</p>\n",
       "</div>"
      ],
      "text/plain": [
       "        userId  movieId  rating   timestamp  is_train\n",
       "8            0      247     4.0  1112484940     False\n",
       "15           0      531     4.0  1112484603     False\n",
       "17           0      581     3.5  1112484661     False\n",
       "121          0     4227     4.0  1112485822     False\n",
       "131          0     4734     5.0  1112484682     False\n",
       "...        ...      ...     ...         ...       ...\n",
       "999866    6742      373     3.5  1117760565     False\n",
       "999919    6742      722     4.5  1117760974     False\n",
       "999969    6742     1218     3.5  1117761366     False\n",
       "999984    6742     1414     4.0  1117761156     False\n",
       "999999    6742     1499     4.0  1117761913     False\n",
       "\n",
       "[49997 rows x 5 columns]"
      ]
     },
     "execution_count": 511,
     "metadata": {},
     "output_type": "execute_result"
    }
   ],
   "source": [
    "test_data"
   ]
  },
  {
   "cell_type": "code",
   "execution_count": 498,
   "id": "77d06b7e-cee4-4101-84b8-d800ca0efefa",
   "metadata": {},
   "outputs": [
    {
     "data": {
      "text/plain": [
       "array([[3, 5],\n",
       "       [5, 2],\n",
       "       [4, 1]])"
      ]
     },
     "execution_count": 498,
     "metadata": {},
     "output_type": "execute_result"
    }
   ],
   "source": [
    "\n",
    "\n",
    "\n",
    "x = np.array([[3,5],[5,2],[4, 1]])\n",
    "x\n",
    "\n",
    "#cosine_similarity"
   ]
  },
  {
   "cell_type": "code",
   "execution_count": 499,
   "id": "540ded23-b9df-44e3-ac2b-01d88fc5962d",
   "metadata": {},
   "outputs": [
    {
     "data": {
      "text/plain": [
       "array([[1.        , 0.79616219, 0.70710678],\n",
       "       [0.79616219, 1.        , 0.99083017],\n",
       "       [0.70710678, 0.99083017, 1.        ]])"
      ]
     },
     "execution_count": 499,
     "metadata": {},
     "output_type": "execute_result"
    }
   ],
   "source": [
    "cosine_similarity(x)"
   ]
  },
  {
   "cell_type": "code",
   "execution_count": 500,
   "id": "dc0c97be-c276-459a-b669-4de38e413896",
   "metadata": {},
   "outputs": [
    {
     "data": {
      "text/html": [
       "<div>\n",
       "<style scoped>\n",
       "    .dataframe tbody tr th:only-of-type {\n",
       "        vertical-align: middle;\n",
       "    }\n",
       "\n",
       "    .dataframe tbody tr th {\n",
       "        vertical-align: top;\n",
       "    }\n",
       "\n",
       "    .dataframe thead th {\n",
       "        text-align: right;\n",
       "    }\n",
       "</style>\n",
       "<table border=\"1\" class=\"dataframe\">\n",
       "  <thead>\n",
       "    <tr style=\"text-align: right;\">\n",
       "      <th></th>\n",
       "      <th>id</th>\n",
       "      <th>value</th>\n",
       "    </tr>\n",
       "  </thead>\n",
       "  <tbody>\n",
       "    <tr>\n",
       "      <th>0</th>\n",
       "      <td>0</td>\n",
       "      <td>0.1</td>\n",
       "    </tr>\n",
       "    <tr>\n",
       "      <th>1</th>\n",
       "      <td>1</td>\n",
       "      <td>0.2</td>\n",
       "    </tr>\n",
       "    <tr>\n",
       "      <th>2</th>\n",
       "      <td>2</td>\n",
       "      <td>0.3</td>\n",
       "    </tr>\n",
       "  </tbody>\n",
       "</table>\n",
       "</div>"
      ],
      "text/plain": [
       "   id  value\n",
       "0   0    0.1\n",
       "1   1    0.2\n",
       "2   2    0.3"
      ]
     },
     "execution_count": 500,
     "metadata": {},
     "output_type": "execute_result"
    }
   ],
   "source": [
    "df = pd.DataFrame({'id': [0,1,2],'value':[0.1,0.2,0.3]})\n",
    "df"
   ]
  },
  {
   "cell_type": "code",
   "execution_count": 504,
   "id": "d8be47ba-c668-47c3-8cd9-21198d91593d",
   "metadata": {},
   "outputs": [
    {
     "name": "stderr",
     "output_type": "stream",
     "text": [
      "C:\\Users\\Paolo\\AppData\\Local\\Temp\\ipykernel_8912\\1725834359.py:1: FutureWarning: The default dtype for empty Series will be 'object' instead of 'float64' in a future version. Specify a dtype explicitly to silence this warning.\n",
      "  df['new'] = pd.Series()\n"
     ]
    }
   ],
   "source": [
    "df['new'] = pd.Series()"
   ]
  },
  {
   "cell_type": "code",
   "execution_count": 505,
   "id": "98622172-e6e2-4d47-8021-cb72b197a0ba",
   "metadata": {},
   "outputs": [
    {
     "data": {
      "text/html": [
       "<div>\n",
       "<style scoped>\n",
       "    .dataframe tbody tr th:only-of-type {\n",
       "        vertical-align: middle;\n",
       "    }\n",
       "\n",
       "    .dataframe tbody tr th {\n",
       "        vertical-align: top;\n",
       "    }\n",
       "\n",
       "    .dataframe thead th {\n",
       "        text-align: right;\n",
       "    }\n",
       "</style>\n",
       "<table border=\"1\" class=\"dataframe\">\n",
       "  <thead>\n",
       "    <tr style=\"text-align: right;\">\n",
       "      <th></th>\n",
       "      <th>id</th>\n",
       "      <th>value</th>\n",
       "      <th>new</th>\n",
       "    </tr>\n",
       "  </thead>\n",
       "  <tbody>\n",
       "    <tr>\n",
       "      <th>0</th>\n",
       "      <td>0</td>\n",
       "      <td>0.1</td>\n",
       "      <td>NaN</td>\n",
       "    </tr>\n",
       "    <tr>\n",
       "      <th>1</th>\n",
       "      <td>1</td>\n",
       "      <td>0.2</td>\n",
       "      <td>NaN</td>\n",
       "    </tr>\n",
       "    <tr>\n",
       "      <th>2</th>\n",
       "      <td>2</td>\n",
       "      <td>0.3</td>\n",
       "      <td>NaN</td>\n",
       "    </tr>\n",
       "  </tbody>\n",
       "</table>\n",
       "</div>"
      ],
      "text/plain": [
       "   id  value  new\n",
       "0   0    0.1  NaN\n",
       "1   1    0.2  NaN\n",
       "2   2    0.3  NaN"
      ]
     },
     "execution_count": 505,
     "metadata": {},
     "output_type": "execute_result"
    }
   ],
   "source": [
    "df"
   ]
  },
  {
   "cell_type": "code",
   "execution_count": 507,
   "id": "380e4ed1-f06d-4225-b4cd-663910c937dc",
   "metadata": {},
   "outputs": [],
   "source": []
  },
  {
   "cell_type": "code",
   "execution_count": 508,
   "id": "82755684-59ef-4896-af50-5f173965c4f5",
   "metadata": {},
   "outputs": [
    {
     "data": {
      "text/html": [
       "<div>\n",
       "<style scoped>\n",
       "    .dataframe tbody tr th:only-of-type {\n",
       "        vertical-align: middle;\n",
       "    }\n",
       "\n",
       "    .dataframe tbody tr th {\n",
       "        vertical-align: top;\n",
       "    }\n",
       "\n",
       "    .dataframe thead th {\n",
       "        text-align: right;\n",
       "    }\n",
       "</style>\n",
       "<table border=\"1\" class=\"dataframe\">\n",
       "  <thead>\n",
       "    <tr style=\"text-align: right;\">\n",
       "      <th></th>\n",
       "      <th>id</th>\n",
       "      <th>value</th>\n",
       "      <th>new</th>\n",
       "    </tr>\n",
       "  </thead>\n",
       "  <tbody>\n",
       "    <tr>\n",
       "      <th>0</th>\n",
       "      <td>0</td>\n",
       "      <td>0.1</td>\n",
       "      <td>NaN</td>\n",
       "    </tr>\n",
       "    <tr>\n",
       "      <th>1</th>\n",
       "      <td>2</td>\n",
       "      <td>0.2</td>\n",
       "      <td>NaN</td>\n",
       "    </tr>\n",
       "    <tr>\n",
       "      <th>2</th>\n",
       "      <td>2</td>\n",
       "      <td>0.3</td>\n",
       "      <td>NaN</td>\n",
       "    </tr>\n",
       "  </tbody>\n",
       "</table>\n",
       "</div>"
      ],
      "text/plain": [
       "   id  value  new\n",
       "0   0    0.1  NaN\n",
       "1   2    0.2  NaN\n",
       "2   2    0.3  NaN"
      ]
     },
     "execution_count": 508,
     "metadata": {},
     "output_type": "execute_result"
    }
   ],
   "source": [
    "df"
   ]
  },
  {
   "cell_type": "code",
   "execution_count": 506,
   "id": "06046440-6536-468d-aaac-2ae4d4643e89",
   "metadata": {},
   "outputs": [],
   "source": [
    "query = '(id==1)'\n"
   ]
  },
  {
   "cell_type": "code",
   "execution_count": null,
   "id": "1ab770f7-0392-41c2-be8c-12f790e2667f",
   "metadata": {},
   "outputs": [],
   "source": []
  }
 ],
 "metadata": {
  "kernelspec": {
   "display_name": "Python 3 (ipykernel)",
   "language": "python",
   "name": "python3"
  },
  "language_info": {
   "codemirror_mode": {
    "name": "ipython",
    "version": 3
   },
   "file_extension": ".py",
   "mimetype": "text/x-python",
   "name": "python",
   "nbconvert_exporter": "python",
   "pygments_lexer": "ipython3",
   "version": "3.9.12"
  }
 },
 "nbformat": 4,
 "nbformat_minor": 5
}
